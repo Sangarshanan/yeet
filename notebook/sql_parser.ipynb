{
 "cells": [
  {
   "cell_type": "code",
   "execution_count": 1,
   "metadata": {},
   "outputs": [],
   "source": [
    "import re"
   ]
  },
  {
   "cell_type": "code",
   "execution_count": 311,
   "metadata": {},
   "outputs": [],
   "source": [
    "class ParseException(Exception):\n",
    "    pass\n",
    "\n",
    "def parse_tokens(tokens):\n",
    "    if tokens:\n",
    "        return tokens[0]\n",
    "    else:\n",
    "        raise ParseException(\"Could not parse the SQL query\")"
   ]
  },
  {
   "cell_type": "code",
   "execution_count": 303,
   "metadata": {},
   "outputs": [
    {
     "name": "stdout",
     "output_type": "stream",
     "text": [
      "('a,b,c', 'tablename', 'x=10 and y=20', '1')\n"
     ]
    }
   ],
   "source": [
    "## SELECT Query\n",
    "\n",
    "select_query_1 = \"\"\"\n",
    "SELECT a,b,c\n",
    "FROM tablename \n",
    "where x=10 and y=20\n",
    "limit 1\"\"\"\n",
    "\n",
    "def parse_select(statement):\n",
    "    tokens = re.findall(\n",
    "        r'(?i)select\\s+(.*?)\\s+from\\s+(.*?)\\s+where\\s+(.*?)\\s+?limit\\s+(\\d)', statement)\n",
    "    return parse_tokens(tokens)\n",
    "\n",
    "print(parse_select(select_query_1))"
   ]
  },
  {
   "cell_type": "code",
   "execution_count": 304,
   "metadata": {},
   "outputs": [
    {
     "name": "stdout",
     "output_type": "stream",
     "text": [
      "('database', 'dbname')\n",
      "('table', 'tablename')\n"
     ]
    }
   ],
   "source": [
    "## CREATE Query\n",
    "\n",
    "create_database = \"create database dbname\"\n",
    "create_table = \"create table tablename\"\n",
    "\n",
    "def parse_create(statement):\n",
    "    tokens = re.findall(\n",
    "        r'(?i)create\\s+(table|database)\\s+([a-zA-Z_]*)', statement)\n",
    "    return parse_tokens(tokens)\n",
    "\n",
    "print(parse_create(create_database))\n",
    "print(parse_create(create_table))"
   ]
  },
  {
   "cell_type": "code",
   "execution_count": 312,
   "metadata": {},
   "outputs": [
    {
     "name": "stdout",
     "output_type": "stream",
     "text": [
      "('person', 'id,age,name', \"1,23,'Abel'\")\n",
      "('person', 'id,age,name', \"2,29,'Frank'\")\n"
     ]
    }
   ],
   "source": [
    "## INSERT Query\n",
    "\n",
    "insert_table_1 = \"\"\"\n",
    "INSERT \n",
    "INTO\n",
    "person(id,age,name) \n",
    "VALUES(1,23,'Abel')\n",
    "\"\"\"\n",
    "insert_table_2 = \"INSERT INTO person (id,age,name) VALUES (2,29,'Frank')\"\n",
    "\n",
    "def parse_create(statement):\n",
    "    tokens = re.findall(\n",
    "        r'INSERT\\s+INTO\\s+([a-zA-Z_]*).*\\((.*?)\\).*\\s+VALUES.*\\((.*?)\\)', statement)\n",
    "    return parse_tokens(tokens)\n",
    "\n",
    "print(parse_create(insert_table_1))\n",
    "print(parse_create(insert_table_2))"
   ]
  }
 ],
 "metadata": {
  "kernelspec": {
   "display_name": "Python 3",
   "language": "python",
   "name": "python3"
  },
  "language_info": {
   "codemirror_mode": {
    "name": "ipython",
    "version": 3
   },
   "file_extension": ".py",
   "mimetype": "text/x-python",
   "name": "python",
   "nbconvert_exporter": "python",
   "pygments_lexer": "ipython3",
   "version": "3.6.8"
  }
 },
 "nbformat": 4,
 "nbformat_minor": 4
}
